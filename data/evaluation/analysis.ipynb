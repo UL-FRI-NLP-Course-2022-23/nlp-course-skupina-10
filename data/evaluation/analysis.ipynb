{
 "cells": [
  {
   "cell_type": "code",
   "execution_count": 64,
   "metadata": {},
   "outputs": [],
   "source": [
    "import pandas as pd\n",
    "from statsmodels.stats.inter_rater import fleiss_kappa\n",
    "import krippendorff"
   ]
  },
  {
   "cell_type": "code",
   "execution_count": 65,
   "metadata": {},
   "outputs": [],
   "source": [
    "bt0 = pd.read_csv(\"data_subsets/backtranslation_subset0.csv\", sep=\";\")\n",
    "bt1 = pd.read_csv(\"data_subsets/backtranslation_subset1.csv\", sep=\";\")\n",
    "bt2 = pd.read_csv(\"data_subsets/backtranslation_subset2.csv\", sep=\";\")\n",
    "pm0 = pd.read_csv(\"data_subsets/paraphrase_mining_subset0.csv\", sep=\";\")\n",
    "pm1 = pd.read_csv(\"data_subsets/paraphrase_mining_subset1.csv\", sep=\";\")\n",
    "pm2= pd.read_csv(\"data_subsets/paraphrase_mining_subset2.csv\", sep=\";\")"
   ]
  },
  {
   "cell_type": "code",
   "execution_count": 66,
   "metadata": {},
   "outputs": [],
   "source": [
    "bt_dfs = [bt0, bt1, bt2]\n",
    "pm_dfs = [pm0, pm1, pm2]\n",
    "\n",
    "bt_df = pd.concat(bt_dfs)\n",
    "pm_df = pd.concat(pm_dfs)\n"
   ]
  },
  {
   "cell_type": "code",
   "execution_count": 67,
   "metadata": {},
   "outputs": [
    {
     "name": "stdout",
     "output_type": "stream",
     "text": [
      "Back-translation technique:\n",
      "Accuracy: 4.29 +/- 0.93\n",
      "Fluency: 4.28 +/- 0.85\n",
      "Diversity: 3.31 +/- 1.22\n",
      "\n",
      "Paraphrase-mining technique:\n",
      "Accuracy: 4.12 +/- 1.10\n",
      "Fluency: 4.17 +/- 1.05\n",
      "Diversity: 3.03 +/- 1.25\n"
     ]
    },
    {
     "name": "stderr",
     "output_type": "stream",
     "text": [
      "/var/folders/hm/_f7_5vdd7_q2vwhty0f22hqm0000gn/T/ipykernel_10626/3627787662.py:1: FutureWarning: The default value of numeric_only in DataFrame.mean is deprecated. In a future version, it will default to False. In addition, specifying 'numeric_only=None' is deprecated. Select only valid columns or specify the value of numeric_only to silence this warning.\n",
      "  bt_mean = bt_df.mean()\n",
      "/var/folders/hm/_f7_5vdd7_q2vwhty0f22hqm0000gn/T/ipykernel_10626/3627787662.py:2: FutureWarning: The default value of numeric_only in DataFrame.std is deprecated. In a future version, it will default to False. In addition, specifying 'numeric_only=None' is deprecated. Select only valid columns or specify the value of numeric_only to silence this warning.\n",
      "  bt_std = bt_df.std()\n",
      "/var/folders/hm/_f7_5vdd7_q2vwhty0f22hqm0000gn/T/ipykernel_10626/3627787662.py:3: FutureWarning: The default value of numeric_only in DataFrame.mean is deprecated. In a future version, it will default to False. In addition, specifying 'numeric_only=None' is deprecated. Select only valid columns or specify the value of numeric_only to silence this warning.\n",
      "  pm_mean = pm_df.mean()\n",
      "/var/folders/hm/_f7_5vdd7_q2vwhty0f22hqm0000gn/T/ipykernel_10626/3627787662.py:4: FutureWarning: The default value of numeric_only in DataFrame.std is deprecated. In a future version, it will default to False. In addition, specifying 'numeric_only=None' is deprecated. Select only valid columns or specify the value of numeric_only to silence this warning.\n",
      "  pm_std = pm_df.std()\n"
     ]
    }
   ],
   "source": [
    "bt_mean = bt_df.mean()\n",
    "bt_std = bt_df.std()\n",
    "pm_mean = pm_df.mean()\n",
    "pm_std = pm_df.std()\n",
    "\n",
    "print(\"Back-translation technique:\")\n",
    "print(f\"Accuracy: {bt_mean['accuracy']:.2f} +/- {bt_std['accuracy']:.2f}\")\n",
    "print(f\"Fluency: {bt_mean['fluency']:.2f} +/- {bt_std['fluency']:.2f}\")\n",
    "print(f\"Diversity: {bt_mean['diversity']:.2f} +/- {bt_std['diversity']:.2f}\\n\")\n",
    "\n",
    "print(\"Paraphrase-mining technique:\")\n",
    "print(f\"Accuracy: {pm_mean['accuracy']:.2f} +/- {pm_std['accuracy']:.2f}\")\n",
    "print(f\"Fluency: {pm_mean['fluency']:.2f} +/- {pm_std['fluency']:.2f}\")\n",
    "print(f\"Diversity: {pm_mean['diversity']:.2f} +/- {pm_std['diversity']:.2f}\")\n"
   ]
  },
  {
   "cell_type": "code",
   "execution_count": 82,
   "metadata": {},
   "outputs": [
    {
     "name": "stdout",
     "output_type": "stream",
     "text": [
      "Back-translation, accuracy, Krippendorff's alpha coefficient: 0.4408430561921084\n",
      "Back-translation, fluency, Krippendorff's alpha coefficient: 0.357096159428521\n",
      "Back-translation, diversirty, Krippendorff's alpha coefficient: 0.07051843035670513\n"
     ]
    }
   ],
   "source": [
    "# Concatenate the ratings from the three annotators into a single DataFrame\n",
    "bt_all = pd.concat([bt0, bt1, bt2], ignore_index=True)\n",
    "\n",
    "# Create a contingency table of the ratings\n",
    "bt_table_acc = pd.crosstab(bt_all['sentence1'], bt_all['accuracy'])\n",
    "print(f\"Back-translation, accuracy, Krippendorff's alpha coefficient: {krippendorff.alpha(bt_table_acc.values)}\")\n",
    "\n",
    "bt_table_flu = pd.crosstab(bt_all['sentence1'], bt_all['fluency'])\n",
    "print(f\"Back-translation, fluency, Krippendorff's alpha coefficient: {krippendorff.alpha(bt_table_flu.values)}\")\n",
    "\n",
    "bt_table_div = pd.crosstab(bt_all['sentence1'], bt_all['diversity'])\n",
    "print(f\"Back-translation, diversirty, Krippendorff's alpha coefficient: {krippendorff.alpha(bt_table_div.values)}\")\n"
   ]
  },
  {
   "cell_type": "code",
   "execution_count": 83,
   "metadata": {},
   "outputs": [
    {
     "name": "stdout",
     "output_type": "stream",
     "text": [
      "Paraphrase-mining, accuracy, Krippendorff's alpha coefficient: 0.34439163702128506\n",
      "Paraphrase-mining, fluency, Krippendorff's alpha coefficient: 0.42402967922755375\n",
      "Paraphrase-mining, diversirty, Krippendorff's alpha coefficient: 0.12220452724739062\n"
     ]
    }
   ],
   "source": [
    "# Concatenate the ratings from the three annotators into a single DataFrame\n",
    "pm_all = pd.concat([pm0, pm1, pm2], ignore_index=True)\n",
    "\n",
    "# Create a contingency table of the ratings\n",
    "pm_table_acc = pd.crosstab(pm_all['sentence1'], pm_all['accuracy'])\n",
    "print(f\"Paraphrase-mining, accuracy, Krippendorff's alpha coefficient: {krippendorff.alpha(pm_table_acc.values)}\")\n",
    "\n",
    "pm_table_flu = pd.crosstab(pm_all['sentence1'], pm_all['fluency'])\n",
    "print(f\"Paraphrase-mining, fluency, Krippendorff's alpha coefficient: {krippendorff.alpha(pm_table_flu.values)}\")\n",
    "\n",
    "pm_table_div = pd.crosstab(pm_all['sentence1'], pm_all['diversity'])\n",
    "print(f\"Paraphrase-mining, diversirty, Krippendorff's alpha coefficient: {krippendorff.alpha(pm_table_div.values)}\")\n"
   ]
  }
 ],
 "metadata": {
  "kernelspec": {
   "display_name": "Python 3",
   "language": "python",
   "name": "python3"
  },
  "language_info": {
   "codemirror_mode": {
    "name": "ipython",
    "version": 3
   },
   "file_extension": ".py",
   "mimetype": "text/x-python",
   "name": "python",
   "nbconvert_exporter": "python",
   "pygments_lexer": "ipython3",
   "version": "3.10.5"
  },
  "orig_nbformat": 4
 },
 "nbformat": 4,
 "nbformat_minor": 2
}
